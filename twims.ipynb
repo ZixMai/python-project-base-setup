{
 "cells": [
  {
   "metadata": {},
   "cell_type": "code",
   "outputs": [],
   "execution_count": null,
   "source": "!uv sync --frozen --no-install-project --no-dev --no-cache",
   "id": "69eaf44658e2aaa"
  },
  {
   "cell_type": "code",
   "id": "initial_id",
   "metadata": {
    "collapsed": true,
    "ExecuteTime": {
     "end_time": "2025-10-20T10:22:29.578514Z",
     "start_time": "2025-10-20T10:22:29.575094Z"
    }
   },
   "source": [
    "from statistics import mean\n",
    "\n",
    "ege = [92, 82, 78, 84, 78, 72, 78, 78, 90, 80, 82, 78, 80, 84, 78, 96, 86, 70, 68, 92]\n",
    "twims = [5, 5, 4, 4, 4, 3, 4, 4, 4, 4, 5, 3, 4, 3, 3, 4, 3, 4, 3, 3]\n",
    "mean_ege = mean(ege)\n",
    "mean_ege"
   ],
   "outputs": [
    {
     "data": {
      "text/plain": [
       "81.3"
      ]
     },
     "execution_count": 5,
     "metadata": {},
     "output_type": "execute_result"
    }
   ],
   "execution_count": 5
  },
  {
   "metadata": {
    "ExecuteTime": {
     "end_time": "2025-10-20T10:22:30.735538Z",
     "start_time": "2025-10-20T10:22:30.732898Z"
    }
   },
   "cell_type": "code",
   "source": [
    "mean_twims = mean(twims)\n",
    "mean_twims"
   ],
   "id": "3d4cc2b9fb820822",
   "outputs": [
    {
     "data": {
      "text/plain": [
       "3.8"
      ]
     },
     "execution_count": 6,
     "metadata": {},
     "output_type": "execute_result"
    }
   ],
   "execution_count": 6
  },
  {
   "metadata": {
    "ExecuteTime": {
     "end_time": "2025-10-20T10:24:04.004942Z",
     "start_time": "2025-10-20T10:24:04.000240Z"
    }
   },
   "cell_type": "code",
   "source": [
    "import pandas as pd\n",
    "\n",
    "df = pd.DataFrame({\"ege\": ege, \"twims\": twims})\n",
    "df.describe()"
   ],
   "id": "6b714221f1ca6073",
   "outputs": [
    {
     "ename": "SyntaxError",
     "evalue": "invalid syntax (3821398098.py, line 6)",
     "output_type": "error",
     "traceback": [
      "  \u001B[36mCell\u001B[39m\u001B[36m \u001B[39m\u001B[32mIn[8]\u001B[39m\u001B[32m, line 6\u001B[39m\n\u001B[31m    \u001B[39m\u001B[31mdf[]\u001B[39m\n       ^\n\u001B[31mSyntaxError\u001B[39m\u001B[31m:\u001B[39m invalid syntax\n"
     ]
    }
   ],
   "execution_count": 8
  },
  {
   "metadata": {
    "ExecuteTime": {
     "end_time": "2025-10-20T10:26:18.782594Z",
     "start_time": "2025-10-20T10:26:18.776663Z"
    }
   },
   "cell_type": "code",
   "source": [
    "# выборочная дисперсия\n",
    "df[\"s20\"] = df[\"ege\"] - mean_ege\n",
    "df[\"s20\"] **= 2\n",
    "df[\"s20\"].describe()"
   ],
   "id": "ad867f9ff8ac4266",
   "outputs": [
    {
     "data": {
      "text/plain": [
       "count     20.000000\n",
       "mean      50.910000\n",
       "std       66.169858\n",
       "min        0.490000\n",
       "25%        7.290000\n",
       "50%       10.890000\n",
       "75%       93.490000\n",
       "max      216.090000\n",
       "Name: s20, dtype: float64"
      ]
     },
     "execution_count": 10,
     "metadata": {},
     "output_type": "execute_result"
    }
   ],
   "execution_count": 10
  },
  {
   "metadata": {
    "ExecuteTime": {
     "end_time": "2025-10-20T10:28:38.448341Z",
     "start_time": "2025-10-20T10:28:38.445627Z"
    }
   },
   "cell_type": "code",
   "source": [
    "# Несмещенная выборочная дисперсия\n",
    "df[\"s20\"].mean() * 20 / 19"
   ],
   "id": "ca9e8100e074e9e4",
   "outputs": [
    {
     "data": {
      "text/plain": [
       "np.float64(53.58947368421053)"
      ]
     },
     "execution_count": 12,
     "metadata": {},
     "output_type": "execute_result"
    }
   ],
   "execution_count": 12
  },
  {
   "metadata": {
    "ExecuteTime": {
     "end_time": "2025-10-20T10:30:53.185999Z",
     "start_time": "2025-10-20T10:30:53.182688Z"
    }
   },
   "cell_type": "code",
   "source": [
    "import numpy as np\n",
    "# Выборочная дисперсия\n",
    "np.var(df[\"ege\"])"
   ],
   "id": "16e79a3360eed7d6",
   "outputs": [
    {
     "data": {
      "text/plain": [
       "np.float64(50.910000000000004)"
      ]
     },
     "execution_count": 14,
     "metadata": {},
     "output_type": "execute_result"
    }
   ],
   "execution_count": 14
  },
  {
   "metadata": {
    "ExecuteTime": {
     "end_time": "2025-10-20T10:31:20.194859Z",
     "start_time": "2025-10-20T10:31:20.192077Z"
    }
   },
   "cell_type": "code",
   "source": "np.var(df[\"twims\"])",
   "id": "144cab448a8ec4ab",
   "outputs": [
    {
     "data": {
      "text/plain": [
       "np.float64(0.45999999999999996)"
      ]
     },
     "execution_count": 15,
     "metadata": {},
     "output_type": "execute_result"
    }
   ],
   "execution_count": 15
  },
  {
   "metadata": {
    "ExecuteTime": {
     "end_time": "2025-10-20T10:32:09.871250Z",
     "start_time": "2025-10-20T10:32:09.867387Z"
    }
   },
   "cell_type": "code",
   "source": "np.var(df[\"twims\"]) * len(twims) / (len(twims) - 1)",
   "id": "d5df66e66cecba74",
   "outputs": [
    {
     "data": {
      "text/plain": [
       "np.float64(0.4842105263157894)"
      ]
     },
     "execution_count": 16,
     "metadata": {},
     "output_type": "execute_result"
    }
   ],
   "execution_count": 16
  },
  {
   "metadata": {},
   "cell_type": "code",
   "outputs": [],
   "execution_count": null,
   "source": "# построить график реализации выб. функции распределения связанной со СВ Y",
   "id": "73fcf1f58e309df0"
  },
  {
   "metadata": {
    "ExecuteTime": {
     "end_time": "2025-10-20T10:53:35.271313Z",
     "start_time": "2025-10-20T10:53:35.264836Z"
    }
   },
   "cell_type": "code",
   "source": [
    "from collections import Counter\n",
    "print(*Counter(twims).items())\n",
    "# смотрим количество оценок для подсчёта медианы через квантиль уровня 50% (потом посмотрел через df.describe) (11-ый элемент массива оценок)"
   ],
   "id": "cb926e0dd75a2bda",
   "outputs": [
    {
     "name": "stdout",
     "output_type": "stream",
     "text": [
      "(5, 3) (4, 10) (3, 7)\n"
     ]
    }
   ],
   "execution_count": 24
  },
  {
   "metadata": {
    "ExecuteTime": {
     "end_time": "2025-10-20T10:38:20.557882Z",
     "start_time": "2025-10-20T10:38:20.553382Z"
    }
   },
   "cell_type": "code",
   "source": [
    "# найдём реализацию выборочной медианы\n",
    "df['twims'].describe()\n",
    "# 50% квантиль - 4.0"
   ],
   "id": "535bf593aae4a46d",
   "outputs": [
    {
     "data": {
      "text/plain": [
       "count    20.000000\n",
       "mean      3.800000\n",
       "std       0.695852\n",
       "min       3.000000\n",
       "25%       3.000000\n",
       "50%       4.000000\n",
       "75%       4.000000\n",
       "max       5.000000\n",
       "Name: twims, dtype: float64"
      ]
     },
     "execution_count": 19,
     "metadata": {},
     "output_type": "execute_result"
    }
   ],
   "execution_count": 19
  },
  {
   "metadata": {
    "ExecuteTime": {
     "end_time": "2025-10-20T10:46:27.661572Z",
     "start_time": "2025-10-20T10:46:27.655602Z"
    }
   },
   "cell_type": "code",
   "source": [
    "# найдём реализацию выб. коэффициента корреляции по выборкам порожд. СВ X и Y\n",
    "df[\"corr\"] = (df[\"ege\"] * df[\"twims\"] - df[\"ege\"].mean() * df[\"twims\"].mean()) / len(twims)\n",
    "r_x_y = df[\"corr\"].sum() / np.sqrt(np.var(df[\"ege\"])) / np.sqrt(np.var(df[\"twims\"]))\n",
    "r_x_y"
   ],
   "id": "2578b872f489eb14",
   "outputs": [
    {
     "data": {
      "text/plain": [
       "np.float64(0.2397052383297897)"
      ]
     },
     "execution_count": 21,
     "metadata": {},
     "output_type": "execute_result"
    }
   ],
   "execution_count": 21
  },
  {
   "metadata": {},
   "cell_type": "code",
   "outputs": [],
   "execution_count": null,
   "source": "",
   "id": "10b5f5c8bad2fc3"
  }
 ],
 "metadata": {
  "kernelspec": {
   "display_name": "Python 3",
   "language": "python",
   "name": "python3"
  },
  "language_info": {
   "codemirror_mode": {
    "name": "ipython",
    "version": 2
   },
   "file_extension": ".py",
   "mimetype": "text/x-python",
   "name": "python",
   "nbconvert_exporter": "python",
   "pygments_lexer": "ipython2",
   "version": "2.7.6"
  }
 },
 "nbformat": 4,
 "nbformat_minor": 5
}
