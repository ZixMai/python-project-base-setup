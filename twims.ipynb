{
 "cells": [
  {
   "metadata": {
    "ExecuteTime": {
     "end_time": "2025-10-22T07:21:48.246688Z",
     "start_time": "2025-10-22T07:21:47.959503Z"
    }
   },
   "cell_type": "code",
   "source": "!uv sync --frozen --no-install-project --no-dev --no-cache",
   "id": "69eaf44658e2aaa",
   "outputs": [
    {
     "name": "stdout",
     "output_type": "stream",
     "text": [
      "\u001B[2mAudited \u001B[1m112 packages\u001B[0m \u001B[2min 26ms\u001B[0m\u001B[0m\r\n"
     ]
    }
   ],
   "execution_count": 2
  },
  {
   "cell_type": "code",
   "id": "initial_id",
   "metadata": {
    "collapsed": true,
    "ExecuteTime": {
     "end_time": "2025-10-22T07:21:48.260295Z",
     "start_time": "2025-10-22T07:21:48.254614Z"
    }
   },
   "source": [
    "from statistics import mean\n",
    "\n",
    "ege = [92, 82, 78, 84, 78, 72, 78, 78, 90, 80, 82, 78, 80, 84, 78, 96, 86, 70, 68, 92]\n",
    "twims = [5, 5, 4, 4, 4, 3, 4, 4, 4, 4, 5, 3, 4, 3, 3, 4, 3, 4, 3, 3]\n",
    "mean_ege = mean(ege)\n",
    "mean_ege"
   ],
   "outputs": [
    {
     "data": {
      "text/plain": [
       "81.3"
      ]
     },
     "execution_count": 3,
     "metadata": {},
     "output_type": "execute_result"
    }
   ],
   "execution_count": 3
  },
  {
   "metadata": {
    "ExecuteTime": {
     "end_time": "2025-10-22T07:21:48.271782Z",
     "start_time": "2025-10-22T07:21:48.269591Z"
    }
   },
   "cell_type": "code",
   "source": [
    "mean_twims = mean(twims)\n",
    "mean_twims"
   ],
   "id": "3d4cc2b9fb820822",
   "outputs": [
    {
     "data": {
      "text/plain": [
       "3.8"
      ]
     },
     "execution_count": 4,
     "metadata": {},
     "output_type": "execute_result"
    }
   ],
   "execution_count": 4
  },
  {
   "metadata": {
    "ExecuteTime": {
     "end_time": "2025-10-22T07:21:49.614296Z",
     "start_time": "2025-10-22T07:21:48.284596Z"
    }
   },
   "cell_type": "code",
   "source": [
    "import pandas as pd\n",
    "\n",
    "df = pd.DataFrame({\"ege\": ege, \"twims\": twims})\n",
    "df.describe()"
   ],
   "id": "6b714221f1ca6073",
   "outputs": [
    {
     "data": {
      "text/plain": [
       "             ege      twims\n",
       "count  20.000000  20.000000\n",
       "mean   81.300000   3.800000\n",
       "std     7.320483   0.695852\n",
       "min    68.000000   3.000000\n",
       "25%    78.000000   3.000000\n",
       "50%    80.000000   4.000000\n",
       "75%    84.500000   4.000000\n",
       "max    96.000000   5.000000"
      ],
      "text/html": [
       "<div>\n",
       "<style scoped>\n",
       "    .dataframe tbody tr th:only-of-type {\n",
       "        vertical-align: middle;\n",
       "    }\n",
       "\n",
       "    .dataframe tbody tr th {\n",
       "        vertical-align: top;\n",
       "    }\n",
       "\n",
       "    .dataframe thead th {\n",
       "        text-align: right;\n",
       "    }\n",
       "</style>\n",
       "<table border=\"1\" class=\"dataframe\">\n",
       "  <thead>\n",
       "    <tr style=\"text-align: right;\">\n",
       "      <th></th>\n",
       "      <th>ege</th>\n",
       "      <th>twims</th>\n",
       "    </tr>\n",
       "  </thead>\n",
       "  <tbody>\n",
       "    <tr>\n",
       "      <th>count</th>\n",
       "      <td>20.000000</td>\n",
       "      <td>20.000000</td>\n",
       "    </tr>\n",
       "    <tr>\n",
       "      <th>mean</th>\n",
       "      <td>81.300000</td>\n",
       "      <td>3.800000</td>\n",
       "    </tr>\n",
       "    <tr>\n",
       "      <th>std</th>\n",
       "      <td>7.320483</td>\n",
       "      <td>0.695852</td>\n",
       "    </tr>\n",
       "    <tr>\n",
       "      <th>min</th>\n",
       "      <td>68.000000</td>\n",
       "      <td>3.000000</td>\n",
       "    </tr>\n",
       "    <tr>\n",
       "      <th>25%</th>\n",
       "      <td>78.000000</td>\n",
       "      <td>3.000000</td>\n",
       "    </tr>\n",
       "    <tr>\n",
       "      <th>50%</th>\n",
       "      <td>80.000000</td>\n",
       "      <td>4.000000</td>\n",
       "    </tr>\n",
       "    <tr>\n",
       "      <th>75%</th>\n",
       "      <td>84.500000</td>\n",
       "      <td>4.000000</td>\n",
       "    </tr>\n",
       "    <tr>\n",
       "      <th>max</th>\n",
       "      <td>96.000000</td>\n",
       "      <td>5.000000</td>\n",
       "    </tr>\n",
       "  </tbody>\n",
       "</table>\n",
       "</div>"
      ]
     },
     "execution_count": 5,
     "metadata": {},
     "output_type": "execute_result"
    }
   ],
   "execution_count": 5
  },
  {
   "metadata": {
    "ExecuteTime": {
     "end_time": "2025-10-22T07:21:49.671009Z",
     "start_time": "2025-10-22T07:21:49.666283Z"
    }
   },
   "cell_type": "code",
   "source": [
    "# выборочная дисперсия\n",
    "df[\"s20\"] = df[\"ege\"] - mean_ege\n",
    "df[\"s20\"] **= 2\n",
    "df[\"s20\"].describe()"
   ],
   "id": "ad867f9ff8ac4266",
   "outputs": [
    {
     "data": {
      "text/plain": [
       "count     20.000000\n",
       "mean      50.910000\n",
       "std       66.169858\n",
       "min        0.490000\n",
       "25%        7.290000\n",
       "50%       10.890000\n",
       "75%       93.490000\n",
       "max      216.090000\n",
       "Name: s20, dtype: float64"
      ]
     },
     "execution_count": 6,
     "metadata": {},
     "output_type": "execute_result"
    }
   ],
   "execution_count": 6
  },
  {
   "metadata": {
    "ExecuteTime": {
     "end_time": "2025-10-22T07:21:49.770301Z",
     "start_time": "2025-10-22T07:21:49.767918Z"
    }
   },
   "cell_type": "code",
   "source": [
    "# Несмещенная выборочная дисперсия\n",
    "df[\"s20\"].mean() * 20 / 19"
   ],
   "id": "ca9e8100e074e9e4",
   "outputs": [
    {
     "data": {
      "text/plain": [
       "np.float64(53.58947368421053)"
      ]
     },
     "execution_count": 7,
     "metadata": {},
     "output_type": "execute_result"
    }
   ],
   "execution_count": 7
  },
  {
   "metadata": {
    "ExecuteTime": {
     "end_time": "2025-10-22T07:21:49.816860Z",
     "start_time": "2025-10-22T07:21:49.814297Z"
    }
   },
   "cell_type": "code",
   "source": [
    "import numpy as np\n",
    "# Выборочная дисперсия\n",
    "np.var(df[\"ege\"])"
   ],
   "id": "16e79a3360eed7d6",
   "outputs": [
    {
     "data": {
      "text/plain": [
       "np.float64(50.910000000000004)"
      ]
     },
     "execution_count": 8,
     "metadata": {},
     "output_type": "execute_result"
    }
   ],
   "execution_count": 8
  },
  {
   "metadata": {
    "ExecuteTime": {
     "end_time": "2025-10-22T07:21:49.916307Z",
     "start_time": "2025-10-22T07:21:49.913880Z"
    }
   },
   "cell_type": "code",
   "source": "np.var(df[\"twims\"])",
   "id": "144cab448a8ec4ab",
   "outputs": [
    {
     "data": {
      "text/plain": [
       "np.float64(0.45999999999999996)"
      ]
     },
     "execution_count": 9,
     "metadata": {},
     "output_type": "execute_result"
    }
   ],
   "execution_count": 9
  },
  {
   "metadata": {
    "ExecuteTime": {
     "end_time": "2025-10-22T07:21:49.952616Z",
     "start_time": "2025-10-22T07:21:49.950083Z"
    }
   },
   "cell_type": "code",
   "source": "np.var(df[\"twims\"]) * len(twims) / (len(twims) - 1)",
   "id": "d5df66e66cecba74",
   "outputs": [
    {
     "data": {
      "text/plain": [
       "np.float64(0.4842105263157894)"
      ]
     },
     "execution_count": 10,
     "metadata": {},
     "output_type": "execute_result"
    }
   ],
   "execution_count": 10
  },
  {
   "metadata": {
    "ExecuteTime": {
     "end_time": "2025-10-22T07:21:49.988812Z",
     "start_time": "2025-10-22T07:21:49.987039Z"
    }
   },
   "cell_type": "code",
   "source": "# построить график реализации выб. функции распределения связанной со СВ Y",
   "id": "73fcf1f58e309df0",
   "outputs": [],
   "execution_count": 11
  },
  {
   "metadata": {
    "ExecuteTime": {
     "end_time": "2025-10-22T07:21:49.995784Z",
     "start_time": "2025-10-22T07:21:49.993866Z"
    }
   },
   "cell_type": "code",
   "source": [
    "from collections import Counter\n",
    "print(*Counter(twims).items())\n",
    "# смотрим количество оценок для подсчёта медианы через квантиль уровня 50% (потом посмотрел через df.describe) (11-ый элемент массива оценок)"
   ],
   "id": "cb926e0dd75a2bda",
   "outputs": [
    {
     "name": "stdout",
     "output_type": "stream",
     "text": [
      "(5, 3) (4, 10) (3, 7)\n"
     ]
    }
   ],
   "execution_count": 12
  },
  {
   "metadata": {
    "ExecuteTime": {
     "end_time": "2025-10-22T07:21:50.018556Z",
     "start_time": "2025-10-22T07:21:50.015169Z"
    }
   },
   "cell_type": "code",
   "source": [
    "# найдём реализацию выборочной медианы\n",
    "df['twims'].describe()\n",
    "# 50% квантиль - 4.0"
   ],
   "id": "535bf593aae4a46d",
   "outputs": [
    {
     "data": {
      "text/plain": [
       "count    20.000000\n",
       "mean      3.800000\n",
       "std       0.695852\n",
       "min       3.000000\n",
       "25%       3.000000\n",
       "50%       4.000000\n",
       "75%       4.000000\n",
       "max       5.000000\n",
       "Name: twims, dtype: float64"
      ]
     },
     "execution_count": 13,
     "metadata": {},
     "output_type": "execute_result"
    }
   ],
   "execution_count": 13
  },
  {
   "metadata": {
    "ExecuteTime": {
     "end_time": "2025-10-22T07:21:50.061130Z",
     "start_time": "2025-10-22T07:21:50.057725Z"
    }
   },
   "cell_type": "code",
   "source": [
    "# найдём реализацию выб. коэффициента корреляции по выборкам порожд. СВ X и Y\n",
    "df[\"corr\"] = (df[\"ege\"] * df[\"twims\"] - df[\"ege\"].mean() * df[\"twims\"].mean()) / len(twims)\n",
    "r_x_y = df[\"corr\"].sum() / np.sqrt(np.var(df[\"ege\"])) / np.sqrt(np.var(df[\"twims\"]))\n",
    "r_x_y"
   ],
   "id": "2578b872f489eb14",
   "outputs": [
    {
     "data": {
      "text/plain": [
       "np.float64(0.2397052383297897)"
      ]
     },
     "execution_count": 14,
     "metadata": {},
     "output_type": "execute_result"
    }
   ],
   "execution_count": 14
  },
  {
   "metadata": {
    "ExecuteTime": {
     "end_time": "2025-10-22T07:41:03.842508Z",
     "start_time": "2025-10-22T07:41:03.839795Z"
    }
   },
   "cell_type": "code",
   "source": [
    "df[\"corr\"] = df[\"corr\"] / df[\"corr\"] * r_x_y\n",
    "print(df[\"corr\"][0])"
   ],
   "id": "10b5f5c8bad2fc3",
   "outputs": [
    {
     "name": "stdout",
     "output_type": "stream",
     "text": [
      "0.2397052383297897\n"
     ]
    }
   ],
   "execution_count": 26
  },
  {
   "metadata": {
    "ExecuteTime": {
     "end_time": "2025-10-22T07:29:29.192475Z",
     "start_time": "2025-10-22T07:29:29.189017Z"
    }
   },
   "cell_type": "code",
   "source": [
    "\"\"\"Анализ временного ряда через гистограммы\"\"\"\n",
    "prices = pd.DataFrame(\n",
    "    {\n",
    "        'x': [\n",
    "            504.63, 503.75, 502.5, 498.75, 500.25, 496.75, 498.5, 506.5, 507.25, 506.75, 512.75, 512.25, 514.75, 509.25, 508, 519.5, 519.75, 527, 519.5, 519.75, 527,\n",
    "            519.5, 520.5, 510.75, 522.5, 524.25, 528.25, 534, 525, 503, 495, 500.75, 505.5, 519.25, 519.5, 522, 528.25, 530.25, 534.25, 529, 524.25, 531.75, 529.75\n",
    "        ]\n",
    "    }\n",
    ")\n",
    "# нижняя оценка и верхняя для фьючерсов, берём максимум\n",
    "l = max(int(3.32 * np.log10(prices.size)), int(np.sqrt(prices.size)))\n",
    "l"
   ],
   "id": "4f555381b3509169",
   "outputs": [
    {
     "data": {
      "text/plain": [
       "6"
      ]
     },
     "execution_count": 20,
     "metadata": {},
     "output_type": "execute_result"
    }
   ],
   "execution_count": 20
  },
  {
   "metadata": {
    "ExecuteTime": {
     "end_time": "2025-10-22T07:29:52.964362Z",
     "start_time": "2025-10-22T07:29:52.904081Z"
    }
   },
   "cell_type": "code",
   "source": [
    "from matplotlib import pyplot as plt\n",
    "\n",
    "prices['x'].plot(kind=\"hist\", bins=l - 1, density=True, edgecolor=\"black\")\n",
    "plt.xlabel(\"Price\")\n",
    "plt.ylabel(\"Price distribution function\")\n",
    "plt.title(\"Histogram of price distribution function\")\n",
    "plt.show()"
   ],
   "id": "b6d7229c1cba41a6",
   "outputs": [
    {
     "data": {
      "text/plain": [
       "<Figure size 640x480 with 1 Axes>"
      ],
      "image/png": "[encoded data removed]"
     },
     "metadata": {},
     "output_type": "display_data",
     "jetTransient": {
      "display_id": null
     }
    }
   ],
   "execution_count": 22
  }
 ],
 "metadata": {
  "kernelspec": {
   "display_name": "Python 3",
   "language": "python",
   "name": "python3"
  },
  "language_info": {
   "codemirror_mode": {
    "name": "ipython",
    "version": 2
   },
   "file_extension": ".py",
   "mimetype": "text/x-python",
   "name": "python",
   "nbconvert_exporter": "python",
   "pygments_lexer": "ipython2",
   "version": "2.7.6"
  }
 },
 "nbformat": 4,
 "nbformat_minor": 5
}
