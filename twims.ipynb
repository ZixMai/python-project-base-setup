{
 "cells": [
  {
   "metadata": {},
   "cell_type": "code",
   "outputs": [],
   "execution_count": null,
   "source": "!uv sync --frozen --no-install-project --no-dev --no-cache",
   "id": "69eaf44658e2aaa"
  },
  {
   "cell_type": "code",
   "id": "initial_id",
   "metadata": {
    "collapsed": true,
    "ExecuteTime": {
     "end_time": "2025-10-20T10:22:29.578514Z",
     "start_time": "2025-10-20T10:22:29.575094Z"
    }
   },
   "source": [
    "from statistics import mean\n",
    "\n",
    "ege = [92, 82, 78, 84, 78, 72, 78, 78, 90, 80, 82, 78, 80, 84, 78, 96, 86, 70, 68, 92]\n",
    "twims = [5, 5, 4, 4, 4, 3, 4, 4, 4, 4, 5, 3, 4, 3, 3, 4, 3, 4, 3, 3]\n",
    "mean_ege = mean(ege)\n",
    "mean_ege"
   ],
   "outputs": [
    {
     "data": {
      "text/plain": [
       "81.3"
      ]
     },
     "execution_count": 5,
     "metadata": {},
     "output_type": "execute_result"
    }
   ],
   "execution_count": 5
  },
  {
   "metadata": {
    "ExecuteTime": {
     "end_time": "2025-10-20T10:22:30.735538Z",
     "start_time": "2025-10-20T10:22:30.732898Z"
    }
   },
   "cell_type": "code",
   "source": [
    "mean_twims = mean(twims)\n",
    "mean_twims"
   ],
   "id": "3d4cc2b9fb820822",
   "outputs": [
    {
     "data": {
      "text/plain": [
       "3.8"
      ]
     },
     "execution_count": 6,
     "metadata": {},
     "output_type": "execute_result"
    }
   ],
   "execution_count": 6
  },
  {
   "metadata": {
    "ExecuteTime": {
     "end_time": "2025-10-20T10:24:04.004942Z",
     "start_time": "2025-10-20T10:24:04.000240Z"
    }
   },
   "cell_type": "code",
   "source": [
    "import pandas as pd\n",
    "\n",
    "df = pd.DataFrame({\"ege\": ege, \"twims\": twims})\n",
    "df.describe()"
   ],
   "id": "6b714221f1ca6073",
   "outputs": [
    {
     "ename": "SyntaxError",
     "evalue": "invalid syntax (3821398098.py, line 6)",
     "output_type": "error",
     "traceback": [
      "  \u001B[36mCell\u001B[39m\u001B[36m \u001B[39m\u001B[32mIn[8]\u001B[39m\u001B[32m, line 6\u001B[39m\n\u001B[31m    \u001B[39m\u001B[31mdf[]\u001B[39m\n       ^\n\u001B[31mSyntaxError\u001B[39m\u001B[31m:\u001B[39m invalid syntax\n"
     ]
    }
   ],
   "execution_count": 8
  },
  {
   "metadata": {
    "ExecuteTime": {
     "end_time": "2025-10-20T10:26:18.782594Z",
     "start_time": "2025-10-20T10:26:18.776663Z"
    }
   },
   "cell_type": "code",
   "source": [
    "# выборочная дисперсия\n",
    "df[\"s20\"] = df[\"ege\"] - mean_ege\n",
    "df[\"s20\"] **= 2\n",
    "df[\"s20\"].describe()"
   ],
   "id": "ad867f9ff8ac4266",
   "outputs": [
    {
     "data": {
      "text/plain": [
       "count     20.000000\n",
       "mean      50.910000\n",
       "std       66.169858\n",
       "min        0.490000\n",
       "25%        7.290000\n",
       "50%       10.890000\n",
       "75%       93.490000\n",
       "max      216.090000\n",
       "Name: s20, dtype: float64"
      ]
     },
     "execution_count": 10,
     "metadata": {},
     "output_type": "execute_result"
    }
   ],
   "execution_count": 10
  },
  {
   "metadata": {
    "ExecuteTime": {
     "end_time": "2025-10-20T10:28:38.448341Z",
     "start_time": "2025-10-20T10:28:38.445627Z"
    }
   },
   "cell_type": "code",
   "source": [
    "# Несмещенная выборочная дисперсия\n",
    "df[\"s20\"].mean() * 20 / 19"
   ],
   "id": "ca9e8100e074e9e4",
   "outputs": [
    {
     "data": {
      "text/plain": [
       "np.float64(53.58947368421053)"
      ]
     },
     "execution_count": 12,
     "metadata": {},
     "output_type": "execute_result"
    }
   ],
   "execution_count": 12
  },
  {
   "metadata": {
    "ExecuteTime": {
     "end_time": "2025-10-20T10:30:53.185999Z",
     "start_time": "2025-10-20T10:30:53.182688Z"
    }
   },
   "cell_type": "code",
   "source": [
    "import numpy as np\n",
    "# Выборочная дисперсия\n",
    "np.var(df[\"ege\"])"
   ],
   "id": "16e79a3360eed7d6",
   "outputs": [
    {
     "data": {
      "text/plain": [
       "np.float64(50.910000000000004)"
      ]
     },
     "execution_count": 14,
     "metadata": {},
     "output_type": "execute_result"
    }
   ],
   "execution_count": 14
  },
  {
   "metadata": {
    "ExecuteTime": {
     "end_time": "2025-10-20T10:31:20.194859Z",
     "start_time": "2025-10-20T10:31:20.192077Z"
    }
   },
   "cell_type": "code",
   "source": "np.var(df[\"twims\"])",
   "id": "144cab448a8ec4ab",
   "outputs": [
    {
     "data": {
      "text/plain": [
       "np.float64(0.45999999999999996)"
      ]
     },
     "execution_count": 15,
     "metadata": {},
     "output_type": "execute_result"
    }
   ],
   "execution_count": 15
  },
  {
   "metadata": {
    "ExecuteTime": {
     "end_time": "2025-10-20T10:32:09.871250Z",
     "start_time": "2025-10-20T10:32:09.867387Z"
    }
   },
   "cell_type": "code",
   "source": "np.var(df[\"twims\"]) * len(twims) / (len(twims) - 1)",
   "id": "d5df66e66cecba74",
   "outputs": [
    {
     "data": {
      "text/plain": [
       "np.float64(0.4842105263157894)"
      ]
     },
     "execution_count": 16,
     "metadata": {},
     "output_type": "execute_result"
    }
   ],
   "execution_count": 16
  },
  {
   "metadata": {},
   "cell_type": "code",
   "outputs": [],
   "execution_count": null,
   "source": "# построить график реализации выб. функции распределения связанной со СВ Y",
   "id": "73fcf1f58e309df0"
  },
  {
   "metadata": {
    "ExecuteTime": {
     "end_time": "2025-10-20T10:53:35.271313Z",
     "start_time": "2025-10-20T10:53:35.264836Z"
    }
   },
   "cell_type": "code",
   "source": [
    "from collections import Counter\n",
    "print(*Counter(twims).items())\n",
    "# смотрим количество оценок для подсчёта медианы через квантиль уровня 50% (потом посмотрел через df.describe) (11-ый элемент массива оценок)"
   ],
   "id": "cb926e0dd75a2bda",
   "outputs": [
    {
     "name": "stdout",
     "output_type": "stream",
     "text": [
      "(5, 3) (4, 10) (3, 7)\n"
     ]
    }
   ],
   "execution_count": 24
  },
  {
   "metadata": {
    "ExecuteTime": {
     "end_time": "2025-10-20T10:38:20.557882Z",
     "start_time": "2025-10-20T10:38:20.553382Z"
    }
   },
   "cell_type": "code",
   "source": [
    "# найдём реализацию выборочной медианы\n",
    "df['twims'].describe()\n",
    "# 50% квантиль - 4.0"
   ],
   "id": "535bf593aae4a46d",
   "outputs": [
    {
     "data": {
      "text/plain": [
       "count    20.000000\n",
       "mean      3.800000\n",
       "std       0.695852\n",
       "min       3.000000\n",
       "25%       3.000000\n",
       "50%       4.000000\n",
       "75%       4.000000\n",
       "max       5.000000\n",
       "Name: twims, dtype: float64"
      ]
     },
     "execution_count": 19,
     "metadata": {},
     "output_type": "execute_result"
    }
   ],
   "execution_count": 19
  },
  {
   "metadata": {
    "ExecuteTime": {
     "end_time": "2025-10-20T10:46:27.661572Z",
     "start_time": "2025-10-20T10:46:27.655602Z"
    }
   },
   "cell_type": "code",
   "source": [
    "# найдём реализацию выб. коэффициента корреляции по выборкам порожд. СВ X и Y\n",
    "df[\"corr\"] = (df[\"ege\"] * df[\"twims\"] - df[\"ege\"].mean() * df[\"twims\"].mean()) / len(twims)\n",
    "r_x_y = df[\"corr\"].sum() / np.sqrt(np.var(df[\"ege\"])) / np.sqrt(np.var(df[\"twims\"]))\n",
    "r_x_y"
   ],
   "id": "2578b872f489eb14",
   "outputs": [
    {
     "data": {
      "text/plain": [
       "np.float64(0.2397052383297897)"
      ]
     },
     "execution_count": 21,
     "metadata": {},
     "output_type": "execute_result"
    }
   ],
   "execution_count": 21
  },
  {
   "metadata": {
    "ExecuteTime": {
     "end_time": "2025-10-20T11:08:02.341769Z",
     "start_time": "2025-10-20T11:08:02.328615Z"
    }
   },
   "cell_type": "code",
   "source": [
    "df[\"corr\"] = df[\"corr\"] / df[\"corr\"] * r_x_y\n",
    "df.describe()"
   ],
   "id": "10b5f5c8bad2fc3",
   "outputs": [
    {
     "data": {
      "text/plain": [
       "             ege      twims         s20          corr\n",
       "count  20.000000  20.000000   20.000000  2.000000e+01\n",
       "mean   81.300000   3.800000   50.910000  2.397052e-01\n",
       "std     7.320483   0.695852   66.169858  2.847662e-17\n",
       "min    68.000000   3.000000    0.490000  2.397052e-01\n",
       "25%    78.000000   3.000000    7.290000  2.397052e-01\n",
       "50%    80.000000   4.000000   10.890000  2.397052e-01\n",
       "75%    84.500000   4.000000   93.490000  2.397052e-01\n",
       "max    96.000000   5.000000  216.090000  2.397052e-01"
      ],
      "text/html": [
       "<div>\n",
       "<style scoped>\n",
       "    .dataframe tbody tr th:only-of-type {\n",
       "        vertical-align: middle;\n",
       "    }\n",
       "\n",
       "    .dataframe tbody tr th {\n",
       "        vertical-align: top;\n",
       "    }\n",
       "\n",
       "    .dataframe thead th {\n",
       "        text-align: right;\n",
       "    }\n",
       "</style>\n",
       "<table border=\"1\" class=\"dataframe\">\n",
       "  <thead>\n",
       "    <tr style=\"text-align: right;\">\n",
       "      <th></th>\n",
       "      <th>ege</th>\n",
       "      <th>twims</th>\n",
       "      <th>s20</th>\n",
       "      <th>corr</th>\n",
       "    </tr>\n",
       "  </thead>\n",
       "  <tbody>\n",
       "    <tr>\n",
       "      <th>count</th>\n",
       "      <td>20.000000</td>\n",
       "      <td>20.000000</td>\n",
       "      <td>20.000000</td>\n",
       "      <td>2.000000e+01</td>\n",
       "    </tr>\n",
       "    <tr>\n",
       "      <th>mean</th>\n",
       "      <td>81.300000</td>\n",
       "      <td>3.800000</td>\n",
       "      <td>50.910000</td>\n",
       "      <td>2.397052e-01</td>\n",
       "    </tr>\n",
       "    <tr>\n",
       "      <th>std</th>\n",
       "      <td>7.320483</td>\n",
       "      <td>0.695852</td>\n",
       "      <td>66.169858</td>\n",
       "      <td>2.847662e-17</td>\n",
       "    </tr>\n",
       "    <tr>\n",
       "      <th>min</th>\n",
       "      <td>68.000000</td>\n",
       "      <td>3.000000</td>\n",
       "      <td>0.490000</td>\n",
       "      <td>2.397052e-01</td>\n",
       "    </tr>\n",
       "    <tr>\n",
       "      <th>25%</th>\n",
       "      <td>78.000000</td>\n",
       "      <td>3.000000</td>\n",
       "      <td>7.290000</td>\n",
       "      <td>2.397052e-01</td>\n",
       "    </tr>\n",
       "    <tr>\n",
       "      <th>50%</th>\n",
       "      <td>80.000000</td>\n",
       "      <td>4.000000</td>\n",
       "      <td>10.890000</td>\n",
       "      <td>2.397052e-01</td>\n",
       "    </tr>\n",
       "    <tr>\n",
       "      <th>75%</th>\n",
       "      <td>84.500000</td>\n",
       "      <td>4.000000</td>\n",
       "      <td>93.490000</td>\n",
       "      <td>2.397052e-01</td>\n",
       "    </tr>\n",
       "    <tr>\n",
       "      <th>max</th>\n",
       "      <td>96.000000</td>\n",
       "      <td>5.000000</td>\n",
       "      <td>216.090000</td>\n",
       "      <td>2.397052e-01</td>\n",
       "    </tr>\n",
       "  </tbody>\n",
       "</table>\n",
       "</div>"
      ]
     },
     "execution_count": 26,
     "metadata": {},
     "output_type": "execute_result"
    }
   ],
   "execution_count": 26
  },
  {
   "metadata": {
    "ExecuteTime": {
     "end_time": "2025-10-20T11:13:46.117945Z",
     "start_time": "2025-10-20T11:13:46.114971Z"
    }
   },
   "cell_type": "code",
   "source": [
    "# нижняя оценка l + 1 для фьючерсов\n",
    "print(3.32*np.log10(40) + 1)\n",
    "# а верхняя 7\n",
    "np.sqrt(40) + 1"
   ],
   "id": "4f555381b3509169",
   "outputs": [
    {
     "name": "stdout",
     "output_type": "stream",
     "text": [
      "6.318839171208834\n"
     ]
    },
    {
     "data": {
      "text/plain": [
       "np.float64(7.324555320336759)"
      ]
     },
     "execution_count": 30,
     "metadata": {},
     "output_type": "execute_result"
    }
   ],
   "execution_count": 30
  },
  {
   "metadata": {},
   "cell_type": "code",
   "outputs": [],
   "execution_count": null,
   "source": "prices = np.array([504.63, 503.75, 502.5, 498.75, 500.25, 496.75, 498.5, 506.5, 507.25, 506.75, 512.75, 512.25])",
   "id": "acedf13aaf17dabb"
  },
  {
   "metadata": {
    "ExecuteTime": {
     "end_time": "2025-10-20T11:23:03.204580Z",
     "start_time": "2025-10-20T11:23:03.202148Z"
    }
   },
   "cell_type": "code",
   "source": "divider = 40*7.85",
   "id": "e22e585484b181a0",
   "outputs": [],
   "execution_count": 32
  },
  {
   "metadata": {
    "ExecuteTime": {
     "end_time": "2025-10-20T11:23:04.347134Z",
     "start_time": "2025-10-20T11:23:04.344737Z"
    }
   },
   "cell_type": "code",
   "source": [
    "print(7/divider)\n",
    "print(9/divider)\n",
    "print(4/divider)\n",
    "print(11/divider)\n",
    "print(9/divider)"
   ],
   "id": "ce097db99003c257",
   "outputs": [
    {
     "name": "stdout",
     "output_type": "stream",
     "text": [
      "0.022292993630573247\n",
      "0.028662420382165606\n",
      "0.012738853503184714\n",
      "0.03503184713375796\n",
      "0.028662420382165606\n"
     ]
    }
   ],
   "execution_count": 33
  }
 ],
 "metadata": {
  "kernelspec": {
   "display_name": "Python 3",
   "language": "python",
   "name": "python3"
  },
  "language_info": {
   "codemirror_mode": {
    "name": "ipython",
    "version": 2
   },
   "file_extension": ".py",
   "mimetype": "text/x-python",
   "name": "python",
   "nbconvert_exporter": "python",
   "pygments_lexer": "ipython2",
   "version": "2.7.6"
  }
 },
 "nbformat": 4,
 "nbformat_minor": 5
}
